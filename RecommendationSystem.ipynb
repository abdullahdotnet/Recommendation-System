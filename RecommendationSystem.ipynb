{
 "cells": [
  {
   "cell_type": "code",
   "execution_count": 2,
   "id": "8698e223-cf58-4eff-8a86-ba1a6bc7ac42",
   "metadata": {},
   "outputs": [],
   "source": [
    "import pandas as pd\n",
    "import numpy as np\n",
    "import matplotlib.pyplot as plt\n",
    "from tqdm.notebook import tqdm\n",
    "from datetime import datetime\n",
    "from numpy.lib.function_base import average\n",
    "import seaborn as sns\n",
    "import numpy as np\n",
    "from sklearn.model_selection import train_test_split"
   ]
  },
  {
   "cell_type": "markdown",
   "id": "5a1800ac-ae56-468b-80dd-afb8a24922cd",
   "metadata": {},
   "source": [
    "## Testing Data"
   ]
  },
  {
   "cell_type": "code",
   "execution_count": 3,
   "id": "62bc0474-b35e-4303-b842-2b3f14ca0747",
   "metadata": {},
   "outputs": [],
   "source": [
    "test_final_sessions_df = pd.read_csv(\"Dataset/test_final_sessions.csv\", sep=',')"
   ]
  },
  {
   "cell_type": "code",
   "execution_count": 4,
   "id": "af69c79f-6e56-4a6f-a130-32072777b6d2",
   "metadata": {},
   "outputs": [],
   "source": [
    "test_final_purchases_df = pd.read_csv('Dataset/test_final_purchases.csv',sep=',')"
   ]
  },
  {
   "cell_type": "code",
   "execution_count": 5,
   "id": "a8b04bca-0cf9-4099-870b-8446fcac9cc3",
   "metadata": {},
   "outputs": [],
   "source": [
    "candidate_items_df = pd.read_csv('Dataset/candidate_items.csv',sep= ',')"
   ]
  },
  {
   "cell_type": "markdown",
   "id": "0903812e-26a9-45e9-9b87-28fdb98537c4",
   "metadata": {},
   "source": [
    "## Training Data"
   ]
  },
  {
   "cell_type": "code",
   "execution_count": 6,
   "id": "abe42817-3fd6-4f88-b0d0-1fe8ece3801c",
   "metadata": {},
   "outputs": [
    {
     "data": {
      "text/html": [
       "<div>\n",
       "<style scoped>\n",
       "    .dataframe tbody tr th:only-of-type {\n",
       "        vertical-align: middle;\n",
       "    }\n",
       "\n",
       "    .dataframe tbody tr th {\n",
       "        vertical-align: top;\n",
       "    }\n",
       "\n",
       "    .dataframe thead th {\n",
       "        text-align: right;\n",
       "    }\n",
       "</style>\n",
       "<table border=\"1\" class=\"dataframe\">\n",
       "  <thead>\n",
       "    <tr style=\"text-align: right;\">\n",
       "      <th></th>\n",
       "      <th>session_id</th>\n",
       "      <th>item_id</th>\n",
       "      <th>date</th>\n",
       "    </tr>\n",
       "  </thead>\n",
       "  <tbody>\n",
       "    <tr>\n",
       "      <th>0</th>\n",
       "      <td>3</td>\n",
       "      <td>9655</td>\n",
       "      <td>2020-12-18 21:25:00.373</td>\n",
       "    </tr>\n",
       "    <tr>\n",
       "      <th>1</th>\n",
       "      <td>3</td>\n",
       "      <td>9655</td>\n",
       "      <td>2020-12-18 21:19:48.093</td>\n",
       "    </tr>\n",
       "    <tr>\n",
       "      <th>2</th>\n",
       "      <td>13</td>\n",
       "      <td>15654</td>\n",
       "      <td>2020-03-13 19:35:27.136</td>\n",
       "    </tr>\n",
       "    <tr>\n",
       "      <th>3</th>\n",
       "      <td>18</td>\n",
       "      <td>18316</td>\n",
       "      <td>2020-08-26 19:18:30.833</td>\n",
       "    </tr>\n",
       "    <tr>\n",
       "      <th>4</th>\n",
       "      <td>18</td>\n",
       "      <td>2507</td>\n",
       "      <td>2020-08-26 19:16:31.211</td>\n",
       "    </tr>\n",
       "    <tr>\n",
       "      <th>...</th>\n",
       "      <td>...</td>\n",
       "      <td>...</td>\n",
       "      <td>...</td>\n",
       "    </tr>\n",
       "    <tr>\n",
       "      <th>4743815</th>\n",
       "      <td>4440001</td>\n",
       "      <td>20409</td>\n",
       "      <td>2020-10-30 23:37:20.658</td>\n",
       "    </tr>\n",
       "    <tr>\n",
       "      <th>4743816</th>\n",
       "      <td>4440001</td>\n",
       "      <td>14155</td>\n",
       "      <td>2020-10-30 23:31:56.607</td>\n",
       "    </tr>\n",
       "    <tr>\n",
       "      <th>4743817</th>\n",
       "      <td>4440001</td>\n",
       "      <td>14303</td>\n",
       "      <td>2020-10-30 23:36:17.934</td>\n",
       "    </tr>\n",
       "    <tr>\n",
       "      <th>4743818</th>\n",
       "      <td>4440001</td>\n",
       "      <td>27852</td>\n",
       "      <td>2020-10-30 23:39:55.186</td>\n",
       "    </tr>\n",
       "    <tr>\n",
       "      <th>4743819</th>\n",
       "      <td>4440001</td>\n",
       "      <td>305</td>\n",
       "      <td>2020-10-30 23:27:37.873</td>\n",
       "    </tr>\n",
       "  </tbody>\n",
       "</table>\n",
       "<p>4743820 rows × 3 columns</p>\n",
       "</div>"
      ],
      "text/plain": [
       "         session_id  item_id                     date\n",
       "0                 3     9655  2020-12-18 21:25:00.373\n",
       "1                 3     9655  2020-12-18 21:19:48.093\n",
       "2                13    15654  2020-03-13 19:35:27.136\n",
       "3                18    18316  2020-08-26 19:18:30.833\n",
       "4                18     2507  2020-08-26 19:16:31.211\n",
       "...             ...      ...                      ...\n",
       "4743815     4440001    20409  2020-10-30 23:37:20.658\n",
       "4743816     4440001    14155  2020-10-30 23:31:56.607\n",
       "4743817     4440001    14303  2020-10-30 23:36:17.934\n",
       "4743818     4440001    27852  2020-10-30 23:39:55.186\n",
       "4743819     4440001      305  2020-10-30 23:27:37.873\n",
       "\n",
       "[4743820 rows x 3 columns]"
      ]
     },
     "execution_count": 6,
     "metadata": {},
     "output_type": "execute_result"
    }
   ],
   "source": [
    "train_sessions_df = pd.read_csv(\"Dataset/train_sessions.csv\", sep=',')\n",
    "train_sessions_df"
   ]
  },
  {
   "cell_type": "code",
   "execution_count": 7,
   "id": "c0438788-671e-44ab-8d2a-1073e06150be",
   "metadata": {},
   "outputs": [
    {
     "data": {
      "text/html": [
       "<div>\n",
       "<style scoped>\n",
       "    .dataframe tbody tr th:only-of-type {\n",
       "        vertical-align: middle;\n",
       "    }\n",
       "\n",
       "    .dataframe tbody tr th {\n",
       "        vertical-align: top;\n",
       "    }\n",
       "\n",
       "    .dataframe thead th {\n",
       "        text-align: right;\n",
       "    }\n",
       "</style>\n",
       "<table border=\"1\" class=\"dataframe\">\n",
       "  <thead>\n",
       "    <tr style=\"text-align: right;\">\n",
       "      <th></th>\n",
       "      <th>session_id</th>\n",
       "      <th>item_id</th>\n",
       "      <th>date</th>\n",
       "    </tr>\n",
       "  </thead>\n",
       "  <tbody>\n",
       "    <tr>\n",
       "      <th>0</th>\n",
       "      <td>3</td>\n",
       "      <td>15085</td>\n",
       "      <td>2020-12-18 21:26:47.986</td>\n",
       "    </tr>\n",
       "    <tr>\n",
       "      <th>1</th>\n",
       "      <td>13</td>\n",
       "      <td>18626</td>\n",
       "      <td>2020-03-13 19:36:15.507</td>\n",
       "    </tr>\n",
       "    <tr>\n",
       "      <th>2</th>\n",
       "      <td>18</td>\n",
       "      <td>24911</td>\n",
       "      <td>2020-08-26 19:20:32.049</td>\n",
       "    </tr>\n",
       "    <tr>\n",
       "      <th>3</th>\n",
       "      <td>19</td>\n",
       "      <td>12534</td>\n",
       "      <td>2020-11-02 17:16:45.92</td>\n",
       "    </tr>\n",
       "    <tr>\n",
       "      <th>4</th>\n",
       "      <td>24</td>\n",
       "      <td>13226</td>\n",
       "      <td>2020-02-26 18:27:44.114</td>\n",
       "    </tr>\n",
       "    <tr>\n",
       "      <th>...</th>\n",
       "      <td>...</td>\n",
       "      <td>...</td>\n",
       "      <td>...</td>\n",
       "    </tr>\n",
       "    <tr>\n",
       "      <th>999995</th>\n",
       "      <td>4439986</td>\n",
       "      <td>2915</td>\n",
       "      <td>2021-05-13 11:56:37.464</td>\n",
       "    </tr>\n",
       "    <tr>\n",
       "      <th>999996</th>\n",
       "      <td>4439990</td>\n",
       "      <td>8786</td>\n",
       "      <td>2020-08-22 14:28:22.382</td>\n",
       "    </tr>\n",
       "    <tr>\n",
       "      <th>999997</th>\n",
       "      <td>4439994</td>\n",
       "      <td>21630</td>\n",
       "      <td>2020-11-27 20:10:28.961</td>\n",
       "    </tr>\n",
       "    <tr>\n",
       "      <th>999998</th>\n",
       "      <td>4439999</td>\n",
       "      <td>16962</td>\n",
       "      <td>2020-11-27 11:01:41.356</td>\n",
       "    </tr>\n",
       "    <tr>\n",
       "      <th>999999</th>\n",
       "      <td>4440001</td>\n",
       "      <td>16631</td>\n",
       "      <td>2020-10-30 23:46:05.218</td>\n",
       "    </tr>\n",
       "  </tbody>\n",
       "</table>\n",
       "<p>1000000 rows × 3 columns</p>\n",
       "</div>"
      ],
      "text/plain": [
       "        session_id  item_id                     date\n",
       "0                3    15085  2020-12-18 21:26:47.986\n",
       "1               13    18626  2020-03-13 19:36:15.507\n",
       "2               18    24911  2020-08-26 19:20:32.049\n",
       "3               19    12534   2020-11-02 17:16:45.92\n",
       "4               24    13226  2020-02-26 18:27:44.114\n",
       "...            ...      ...                      ...\n",
       "999995     4439986     2915  2021-05-13 11:56:37.464\n",
       "999996     4439990     8786  2020-08-22 14:28:22.382\n",
       "999997     4439994    21630  2020-11-27 20:10:28.961\n",
       "999998     4439999    16962  2020-11-27 11:01:41.356\n",
       "999999     4440001    16631  2020-10-30 23:46:05.218\n",
       "\n",
       "[1000000 rows x 3 columns]"
      ]
     },
     "execution_count": 7,
     "metadata": {},
     "output_type": "execute_result"
    }
   ],
   "source": [
    "train_purchases_df = pd.read_csv(\"Dataset/train_purchases.csv\", sep=',')\n",
    "train_purchases_df"
   ]
  },
  {
   "cell_type": "code",
   "execution_count": 8,
   "id": "b5bd2b91-159c-40c5-991c-10011ebffb49",
   "metadata": {},
   "outputs": [
    {
     "data": {
      "text/html": [
       "<div>\n",
       "<style scoped>\n",
       "    .dataframe tbody tr th:only-of-type {\n",
       "        vertical-align: middle;\n",
       "    }\n",
       "\n",
       "    .dataframe tbody tr th {\n",
       "        vertical-align: top;\n",
       "    }\n",
       "\n",
       "    .dataframe thead th {\n",
       "        text-align: right;\n",
       "    }\n",
       "</style>\n",
       "<table border=\"1\" class=\"dataframe\">\n",
       "  <thead>\n",
       "    <tr style=\"text-align: right;\">\n",
       "      <th></th>\n",
       "      <th>item_id</th>\n",
       "      <th>feature_category_id</th>\n",
       "      <th>feature_value_id</th>\n",
       "    </tr>\n",
       "  </thead>\n",
       "  <tbody>\n",
       "    <tr>\n",
       "      <th>0</th>\n",
       "      <td>2</td>\n",
       "      <td>56</td>\n",
       "      <td>365</td>\n",
       "    </tr>\n",
       "    <tr>\n",
       "      <th>1</th>\n",
       "      <td>2</td>\n",
       "      <td>62</td>\n",
       "      <td>801</td>\n",
       "    </tr>\n",
       "    <tr>\n",
       "      <th>2</th>\n",
       "      <td>2</td>\n",
       "      <td>68</td>\n",
       "      <td>351</td>\n",
       "    </tr>\n",
       "    <tr>\n",
       "      <th>3</th>\n",
       "      <td>2</td>\n",
       "      <td>33</td>\n",
       "      <td>802</td>\n",
       "    </tr>\n",
       "    <tr>\n",
       "      <th>4</th>\n",
       "      <td>2</td>\n",
       "      <td>72</td>\n",
       "      <td>75</td>\n",
       "    </tr>\n",
       "    <tr>\n",
       "      <th>...</th>\n",
       "      <td>...</td>\n",
       "      <td>...</td>\n",
       "      <td>...</td>\n",
       "    </tr>\n",
       "    <tr>\n",
       "      <th>471746</th>\n",
       "      <td>28143</td>\n",
       "      <td>68</td>\n",
       "      <td>351</td>\n",
       "    </tr>\n",
       "    <tr>\n",
       "      <th>471747</th>\n",
       "      <td>28143</td>\n",
       "      <td>55</td>\n",
       "      <td>390</td>\n",
       "    </tr>\n",
       "    <tr>\n",
       "      <th>471748</th>\n",
       "      <td>28143</td>\n",
       "      <td>11</td>\n",
       "      <td>109</td>\n",
       "    </tr>\n",
       "    <tr>\n",
       "      <th>471749</th>\n",
       "      <td>28143</td>\n",
       "      <td>73</td>\n",
       "      <td>91</td>\n",
       "    </tr>\n",
       "    <tr>\n",
       "      <th>471750</th>\n",
       "      <td>28143</td>\n",
       "      <td>47</td>\n",
       "      <td>549</td>\n",
       "    </tr>\n",
       "  </tbody>\n",
       "</table>\n",
       "<p>471751 rows × 3 columns</p>\n",
       "</div>"
      ],
      "text/plain": [
       "        item_id  feature_category_id  feature_value_id\n",
       "0             2                   56               365\n",
       "1             2                   62               801\n",
       "2             2                   68               351\n",
       "3             2                   33               802\n",
       "4             2                   72                75\n",
       "...         ...                  ...               ...\n",
       "471746    28143                   68               351\n",
       "471747    28143                   55               390\n",
       "471748    28143                   11               109\n",
       "471749    28143                   73                91\n",
       "471750    28143                   47               549\n",
       "\n",
       "[471751 rows x 3 columns]"
      ]
     },
     "execution_count": 8,
     "metadata": {},
     "output_type": "execute_result"
    }
   ],
   "source": [
    "item_features_df = pd.read_csv(\"Dataset/item_features.csv\", sep=',')\n",
    "item_features_df"
   ]
  },
  {
   "cell_type": "code",
   "execution_count": 9,
   "id": "0737718c-ba1a-4464-8b21-a85dee3218f2",
   "metadata": {},
   "outputs": [
    {
     "name": "stdout",
     "output_type": "stream",
     "text": [
      "(4743820, 3)\n",
      "(1000000, 3)\n",
      "(471751, 3)\n"
     ]
    }
   ],
   "source": [
    "print(train_sessions_df.shape)\n",
    "print(train_purchases_df.shape)\n",
    "print(item_features_df.shape)"
   ]
  },
  {
   "cell_type": "markdown",
   "id": "37c47787-6961-49c4-974f-0cb6f2922a11",
   "metadata": {},
   "source": [
    "# Data Exploration"
   ]
  },
  {
   "cell_type": "markdown",
   "id": "9597f326-d52f-4406-a421-3224fa70cdf0",
   "metadata": {},
   "source": [
    "### *General Information*"
   ]
  },
  {
   "cell_type": "code",
   "execution_count": 10,
   "id": "3ba046ac-3c0d-40e6-9b59-038406f02af7",
   "metadata": {},
   "outputs": [
    {
     "name": "stdout",
     "output_type": "stream",
     "text": [
      "Train purchases dataframe\n",
      "\n",
      "Number of total purchases: 1000000\n",
      "Number of unique sessions: 1000000\n",
      "Number of unique items: 18907\n",
      "Min ID sessions: 3, Max ID sessions: 4440001\n",
      "Min ID items: 3, Max ID items: 28143\n"
     ]
    }
   ],
   "source": [
    "print(\"Train purchases dataframe\\n\")\n",
    "\n",
    "session_ids_purchases = train_purchases_df['session_id'].unique()\n",
    "item_ids_purchases = train_purchases_df['item_id'].unique()\n",
    "\n",
    "n_sessions_purchases = len(session_ids_purchases)\n",
    "n_items_purchases = len(item_ids_purchases)\n",
    "\n",
    "print(\"Number of total purchases: {}\".format(len(train_purchases_df)))\n",
    "print(\"Number of unique sessions: {}\".format(n_sessions_purchases))\n",
    "print(\"Number of unique items: {}\".format(n_items_purchases))\n",
    "print(\"Min ID sessions: {}, Max ID sessions: {}\".format(min(session_ids_purchases), max(session_ids_purchases)))\n",
    "print(\"Min ID items: {}, Max ID items: {}\".format(min(item_ids_purchases), max(item_ids_purchases)))"
   ]
  },
  {
   "cell_type": "code",
   "execution_count": 11,
   "id": "92fac6d8-37d3-4c40-9f5e-6d5024a270ff",
   "metadata": {},
   "outputs": [
    {
     "name": "stdout",
     "output_type": "stream",
     "text": [
      "Item features dataframe\n",
      "\n",
      "Number of unique items: 23691\n",
      "Min ID items: 2, Max ID items: 28143\n"
     ]
    }
   ],
   "source": [
    "print(\"Item features dataframe\\n\")\n",
    "\n",
    "item_ids_features = item_features_df['item_id'].unique()\n",
    "\n",
    "print(\"Number of unique items: {}\".format(len(item_ids_features)))\n",
    "print(\"Min ID items: {}, Max ID items: {}\".format(min(item_ids_features), max(item_ids_features)))"
   ]
  },
  {
   "cell_type": "markdown",
   "id": "6f807f94-2a15-4fcc-b945-03587534fb58",
   "metadata": {},
   "source": [
    "### **Anomaly Detection**"
   ]
  },
  {
   "cell_type": "code",
   "execution_count": 1,
   "id": "6043772b-7d15-42f2-ac45-291f79907365",
   "metadata": {},
   "outputs": [
    {
     "ename": "NameError",
     "evalue": "name 'train_sessions_df' is not defined",
     "output_type": "error",
     "traceback": [
      "\u001b[1;31m---------------------------------------------------------------------------\u001b[0m",
      "\u001b[1;31mNameError\u001b[0m                                 Traceback (most recent call last)",
      "Cell \u001b[1;32mIn[1], line 1\u001b[0m\n\u001b[1;32m----> 1\u001b[0m \u001b[38;5;28mprint\u001b[39m(\u001b[43mtrain_sessions_df\u001b[49m\u001b[38;5;241m.\u001b[39misnull()\u001b[38;5;241m.\u001b[39mvalues\u001b[38;5;241m.\u001b[39many())\n\u001b[0;32m      2\u001b[0m \u001b[38;5;28mprint\u001b[39m(train_purchases_df\u001b[38;5;241m.\u001b[39misnull()\u001b[38;5;241m.\u001b[39mvalues\u001b[38;5;241m.\u001b[39many())\n\u001b[0;32m      3\u001b[0m \u001b[38;5;28mprint\u001b[39m(item_features_df\u001b[38;5;241m.\u001b[39misnull()\u001b[38;5;241m.\u001b[39mvalues\u001b[38;5;241m.\u001b[39many())\n",
      "\u001b[1;31mNameError\u001b[0m: name 'train_sessions_df' is not defined"
     ]
    }
   ],
   "source": [
    "print(train_sessions_df.isnull().values.any())\n",
    "print(train_purchases_df.isnull().values.any())\n",
    "print(item_features_df.isnull().values.any())"
   ]
  },
  {
   "cell_type": "code",
   "execution_count": 2,
   "id": "c76e680e-3621-4f79-8512-113388e04608",
   "metadata": {},
   "outputs": [
    {
     "ename": "NameError",
     "evalue": "name 'item_features_df' is not defined",
     "output_type": "error",
     "traceback": [
      "\u001b[1;31m---------------------------------------------------------------------------\u001b[0m",
      "\u001b[1;31mNameError\u001b[0m                                 Traceback (most recent call last)",
      "Cell \u001b[1;32mIn[2], line 1\u001b[0m\n\u001b[1;32m----> 1\u001b[0m feature_category_groupby \u001b[38;5;241m=\u001b[39m \u001b[43mitem_features_df\u001b[49m\u001b[38;5;241m.\u001b[39mgroupby([\u001b[38;5;124m'\u001b[39m\u001b[38;5;124mfeature_category_id\u001b[39m\u001b[38;5;124m'\u001b[39m])\n\u001b[0;32m      2\u001b[0m feature_value_groupby \u001b[38;5;241m=\u001b[39m item_features_df\u001b[38;5;241m.\u001b[39mgroupby([\u001b[38;5;124m'\u001b[39m\u001b[38;5;124mfeature_value_id\u001b[39m\u001b[38;5;124m'\u001b[39m])\n\u001b[0;32m      3\u001b[0m \u001b[38;5;28mprint\u001b[39m(\u001b[38;5;124m'\u001b[39m\u001b[38;5;124mNumber of Feature Categories: \u001b[39m\u001b[38;5;132;01m{}\u001b[39;00m\u001b[38;5;124m'\u001b[39m\u001b[38;5;241m.\u001b[39mformat(\u001b[38;5;28mlen\u001b[39m(feature_category_groupby)))\n",
      "\u001b[1;31mNameError\u001b[0m: name 'item_features_df' is not defined"
     ]
    }
   ],
   "source": [
    "feature_category_groupby = item_features_df.groupby(['feature_category_id'])\n",
    "feature_value_groupby = item_features_df.groupby(['feature_value_id'])\n",
    "print('Number of Feature Categories: {}'.format(len(feature_category_groupby)))\n",
    "print('Number of Feature Values: {}'.format(len(feature_value_groupby)))"
   ]
  },
  {
   "cell_type": "code",
   "execution_count": null,
   "id": "6886c9da-e7f2-43b6-854a-25e87619f3db",
   "metadata": {},
   "outputs": [],
   "source": []
  }
 ],
 "metadata": {
  "kernelspec": {
   "display_name": "Python 3 (ipykernel)",
   "language": "python",
   "name": "python3"
  },
  "language_info": {
   "codemirror_mode": {
    "name": "ipython",
    "version": 3
   },
   "file_extension": ".py",
   "mimetype": "text/x-python",
   "name": "python",
   "nbconvert_exporter": "python",
   "pygments_lexer": "ipython3",
   "version": "3.12.4"
  }
 },
 "nbformat": 4,
 "nbformat_minor": 5
}
